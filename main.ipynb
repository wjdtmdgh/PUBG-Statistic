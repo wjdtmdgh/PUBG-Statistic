{
 "cells": [
  {
   "cell_type": "markdown",
   "source": [
    "# 상수, 함수 정의"
   ],
   "metadata": {
    "collapsed": false,
    "pycharm": {
     "name": "#%% md\n"
    }
   }
  },
  {
   "cell_type": "code",
   "execution_count": 185,
   "outputs": [],
   "source": [
    "FILE_PATH = 'dataset/PUBG.csv'\n",
    "\n",
    "column_prefix = {\n",
    "    \"solo\": \"solo_\",\n",
    "    \"duo\": \"duo_\",\n",
    "    \"squad\": \"squad_\"\n",
    "}\n",
    "\n",
    "headers = {\n",
    "    \"solo\": {\n",
    "        \"per_game_target\": [\n",
    "            'solo_KillDeathRatio',\n",
    "            'solo_WinRatio',\n",
    "            'solo_WinTop10Ratio',\n",
    "            'solo_Top10Ratio',\n",
    "        ],\n",
    "        \"per_game_columns\": [\n",
    "            'solo_DamagePg',\n",
    "            'solo_HeadshotKillsPg',\n",
    "            'solo_HealsPg',\n",
    "            'solo_KillsPg',\n",
    "            'solo_MoveDistancePg',\n",
    "            # 'solo_RevivesPg', # 솔로 매치는 부활 불가능\n",
    "            'solo_RoadKillsPg',\n",
    "            'solo_TeamKillsPg',\n",
    "            'solo_TimeSurvivedPg',\n",
    "            'solo_Top10sPg'\n",
    "        ]\n",
    "    },\n",
    "    \"duo\": {\n",
    "        \"per_game_target\": [\n",
    "            'duo_KillDeathRatio',\n",
    "            'duo_WinRatio',\n",
    "            'duo_WinTop10Ratio',\n",
    "            'duo_Top10Ratio',\n",
    "        ],\n",
    "        \"per_game_columns\": [\n",
    "            'duo_DamagePg',\n",
    "            'duo_HeadshotKillsPg',\n",
    "            'duo_HealsPg',\n",
    "            'duo_KillsPg',\n",
    "            'duo_MoveDistancePg',\n",
    "            'duo_RevivesPg',\n",
    "            'duo_RoadKillsPg',\n",
    "            'duo_TeamKillsPg',\n",
    "            'duo_TimeSurvivedPg',\n",
    "            'duo_Top10sPg'\n",
    "        ]\n",
    "    },\n",
    "    \"squad\": {\n",
    "        \"per_game_target\": [\n",
    "            'squad_KillDeathRatio',\n",
    "            'squad_WinRatio',\n",
    "            'squad_WinTop10Ratio',\n",
    "            'squad_Top10Ratio',\n",
    "        ],\n",
    "        \"per_game_columns\": [\n",
    "            'squad_DamagePg',\n",
    "            'squad_HeadshotKillsPg',\n",
    "            'squad_HealsPg',\n",
    "            'squad_KillsPg',\n",
    "            'squad_MoveDistancePg',\n",
    "            'squad_RevivesPg',\n",
    "            'squad_RoadKillsPg',\n",
    "            'squad_TeamKillsPg',\n",
    "            'squad_TimeSurvivedPg',\n",
    "            'squad_Top10sPg'\n",
    "        ]\n",
    "    }\n",
    "}\n"
   ],
   "metadata": {
    "collapsed": false,
    "pycharm": {
     "name": "#%%\n"
    }
   }
  },
  {
   "cell_type": "code",
   "execution_count": 186,
   "outputs": [],
   "source": [
    "import pandas as pd\n",
    "\n",
    "def load_dataset(match_type):\n",
    "    df = pd.read_csv(FILE_PATH)\n",
    "    print(f\"{FILE_PATH} successfully loadded\")\n",
    "\n",
    "    all_col_names = df.columns.tolist()\n",
    "    col_names = list(filter(lambda x: x.startswith(column_prefix[match_type]), all_col_names))\n",
    "\n",
    "    return df.loc[:, df.columns.isin(col_names)]\n"
   ],
   "metadata": {
    "collapsed": false,
    "pycharm": {
     "name": "#%%\n"
    }
   }
  },
  {
   "cell_type": "code",
   "execution_count": null,
   "outputs": [],
   "source": [
    "MATCH_TYPE = 'solo'\n",
    "# MATCH_TYPE = 'duo'\n",
    "# MATCH_TYPE = 'squad'"
   ],
   "metadata": {
    "collapsed": false,
    "pycharm": {
     "name": "#%%\n"
    }
   }
  },
  {
   "cell_type": "markdown",
   "source": [
    "# 1. 데이터 불러오기"
   ],
   "metadata": {
    "collapsed": false,
    "pycharm": {
     "name": "#%% md\n"
    }
   }
  },
  {
   "cell_type": "code",
   "execution_count": 188,
   "metadata": {
    "collapsed": true,
    "pycharm": {
     "name": "#%%\n"
    }
   },
   "outputs": [
    {
     "name": "stdout",
     "output_type": "stream",
     "text": [
      "dataset/PUBG.csv successfully loadded\n"
     ]
    }
   ],
   "source": [
    "df = load_dataset(MATCH_TYPE)"
   ]
  },
  {
   "cell_type": "code",
   "execution_count": 189,
   "outputs": [
    {
     "name": "stdout",
     "output_type": "stream",
     "text": [
      "Number of rows with missing values:  0\n"
     ]
    }
   ],
   "source": [
    "# 결측치 확인\n",
    "print(\"Number of rows with missing values: \", len(df[df.isnull().any(axis=1)]))"
   ],
   "metadata": {
    "collapsed": false,
    "pycharm": {
     "name": "#%%\n"
    }
   }
  },
  {
   "cell_type": "markdown",
   "source": [
    "## 매치 유형별(Solo, Duo, Squad) 데이터 분할"
   ],
   "metadata": {
    "collapsed": false,
    "pycharm": {
     "name": "#%% md\n"
    }
   }
  },
  {
   "cell_type": "markdown",
   "source": [
    "# 2. 데이터 살펴보기"
   ],
   "metadata": {
    "collapsed": false,
    "pycharm": {
     "name": "#%% md\n"
    }
   }
  },
  {
   "cell_type": "markdown",
   "source": [
    "## 2-1. 샘플 데이터 출력"
   ],
   "metadata": {
    "collapsed": false,
    "pycharm": {
     "name": "#%% md\n"
    }
   }
  },
  {
   "cell_type": "code",
   "execution_count": 193,
   "outputs": [
    {
     "data": {
      "text/plain": "    solo_KillDeathRatio  solo_WinRatio  solo_TimeSurvived  solo_RoundsPlayed  \\\n0                  3.14          17.65           18469.14                 17   \n1                  4.41          18.18           33014.86                 33   \n2                  3.60           0.00            4330.44                  5   \n3                 14.00          50.00           13421.82                  8   \n4                 10.50          33.33            9841.04                  6   \n5                  5.73          31.25           22003.22                 16   \n6                  2.45           8.45          148051.25                142   \n7                  2.71          26.32           26091.14                 19   \n8                  3.68          13.64           49282.41                 44   \n9                  4.17          25.00           10280.77                  8   \n10                 3.12           6.03          106330.23                116   \n11                 1.20           1.19          232995.54                335   \n12                 4.46          10.34           91380.40                 87   \n13                 2.60           5.56           71910.46                 72   \n14                 3.60          13.04           30996.86                 23   \n15                 5.00          33.33            3638.01                  3   \n16                 3.35          23.03          246771.12                165   \n17                 5.06          18.46           87214.43                 65   \n18                 6.60          37.50           20927.23                 16   \n19                 2.49           4.44           45916.37                 45   \n20                 4.25          12.73           62763.42                 55   \n21                 2.54           8.89           43124.07                 45   \n22                 5.17          33.33           11733.19                  9   \n23                 3.58          14.29           18488.62                 14   \n24                 4.52          17.33          331173.26                277   \n25                 5.16          23.77          397022.20                265   \n26                 2.12           5.19           87514.41                 77   \n27                 2.39           5.77           53548.14                 52   \n28                 2.00           5.36           47966.09                 56   \n29                 2.30           9.09           25094.18                 22   \n\n    solo_Wins  solo_WinTop10Ratio  solo_Top10s  solo_Top10Ratio  solo_Losses  \\\n0           3                0.83            4             23.5           14   \n1           6                0.36           11             33.3           27   \n2           0                0.00            1             20.0            5   \n3           4                0.67            6             75.0            4   \n4           2                0.40            5             83.3            4   \n5           5                0.50           10             62.5           11   \n6          12                0.18           34             23.9          130   \n7           5                0.50           10             52.6           14   \n8           6                0.23           13             29.5           38   \n9           2                0.25            4             50.0            6   \n10          7                0.36           24             20.7          109   \n11          4                0.06           33              9.9          331   \n12          9                0.45           25             28.7           78   \n13          4                0.06           20             27.8           68   \n14          3                0.67            7             30.4           20   \n15          1                1.00            1             33.3            2   \n16         38                0.22           86             52.1          127   \n17         12                0.49           29             44.6           53   \n18          6                0.86            7             43.8           10   \n19          2                0.18           11             24.4           43   \n20          7                0.36           17             30.9           48   \n21          4                0.50            8             17.8           41   \n22          3                0.75            4             44.4            6   \n23          2                0.17            6             42.9           12   \n24         48                0.25          109             39.4          229   \n25         63                0.41          153             57.7          202   \n26          4                0.19           21             27.3           73   \n27          3                0.25           12             23.1           49   \n28          3                0.38            8             14.3           53   \n29          2                0.33            6             27.3           20   \n\n    solo_Rating  ...  solo_RideDistance  solo_MoveDistance  \\\n0       1559.78  ...           27537.53           56461.84   \n1       1884.53  ...          117837.74          165706.51   \n2       1255.92  ...            7683.20           14023.99   \n3       1798.70  ...           30314.83           47894.53   \n4       1668.67  ...           22425.36           39161.77   \n5       2123.32  ...           60352.12           91395.30   \n6       2604.65  ...          469525.85          670638.33   \n7       1993.43  ...           71402.04           95534.14   \n8       2461.78  ...           98830.09          165490.88   \n9       1550.87  ...            7633.25           31283.25   \n10      2125.14  ...          114017.81          333830.88   \n11      2335.96  ...          379037.02          692140.93   \n12      2172.29  ...          294109.95          465509.69   \n13      2480.35  ...          157326.08          247989.58   \n14      1978.00  ...           62285.05          111076.82   \n15      1315.49  ...            7188.01           10029.64   \n16      2840.73  ...          931615.10         1210603.50   \n17      2331.60  ...          275697.07          375741.90   \n18      2088.75  ...           41756.23           76347.52   \n19      2216.46  ...           95676.41          160193.30   \n20      2079.32  ...           82265.82          171343.46   \n21      2146.49  ...          116276.60          177172.80   \n22      1678.51  ...           34242.47           51710.45   \n23      1825.93  ...           19575.93           44722.74   \n24      2928.09  ...         1303816.39         1678515.27   \n25      2956.50  ...         1127482.00         1565599.00   \n26      2512.27  ...          124305.00          240220.30   \n27      2348.90  ...          145659.30          227509.70   \n28      2083.40  ...           69823.86          137262.40   \n29      1748.67  ...           71548.86          100504.00   \n\n    solo_AvgWalkDistance  solo_AvgRideDistance  solo_LongestKill  solo_Heals  \\\n0                2202.40               2764.50            304.87          33   \n1                2017.38               5188.69            351.95          60   \n2                1375.70               3052.50            125.76           5   \n3                2197.46               3789.35            412.25           8   \n4                2789.40               3737.56            307.97          12   \n5                1940.20               3772.01            298.03          22   \n6                1939.00               5189.78            464.37         275   \n7                1270.11               3758.00            260.01          29   \n8                 830.48               1176.55            283.13          67   \n9                3609.51                546.01            183.70           9   \n10               1986.97               1105.19            402.96         160   \n11               1276.77               1972.20            343.82         406   \n12               1928.81               2707.02            601.15         167   \n13                877.32               1368.98            228.39         114   \n14               2176.29               4313.64            330.07          38   \n15                947.21               2396.00            125.66           2   \n16               1223.54               2840.29            442.07         278   \n17               1619.45               4658.91            372.23         108   \n18               2161.96               2609.76            245.48          20   \n19               1433.71               2126.14            344.96          47   \n20               1898.15               1824.04            304.65         147   \n21               1353.25               2583.93            823.47          53   \n22               1940.89               3804.72            250.69          17   \n23               1481.69                978.80            259.88          14   \n24               1164.78               4095.67            441.08         443   \n25               1653.27               4254.65            453.45         463   \n26               1505.39               1614.35            514.20          72   \n27               1574.04               2801.14            368.18          99   \n28               1204.26               1246.86            277.18          88   \n29               1316.14               3252.22            240.75          28   \n\n    solo_Revives  solo_Boosts  solo_DamageDealt  solo_DBNOs  \n0              0           29           4341.06           0  \n1              0           88          12970.39           0  \n2              0            3           1648.82           0  \n3              0           24           6015.57           0  \n4              0           21           3824.89           0  \n5              0           50           6591.15           0  \n6              0          371          40409.57           0  \n7              0           55           4529.69           0  \n8              0           97          14935.28           0  \n9              0           24           2979.04           0  \n10             0          242          37744.50           0  \n11             0          332          48406.91           0  \n12             0          238          38018.21           0  \n13             0          131          20950.58           0  \n14             0           65           7536.64           0  \n15             0            7           1111.94           0  \n16             0          472          52780.42           0  \n17             0          248          29958.40           0  \n18             0           58           6758.80           0  \n19             0           81          12834.82           0  \n20             0          171          21008.36           0  \n21             0           92          11712.06           0  \n22             0           32           3135.53           0  \n23             0           44           4727.51           0  \n24             0          853         116260.40           0  \n25             0          972         121904.20           0  \n26             0          143          17864.41           0  \n27             0          136          13211.58           0  \n28             0           76          12214.28           0  \n29             0           30           5321.45           0  \n\n[30 rows x 50 columns]",
      "text/html": "<div>\n<style scoped>\n    .dataframe tbody tr th:only-of-type {\n        vertical-align: middle;\n    }\n\n    .dataframe tbody tr th {\n        vertical-align: top;\n    }\n\n    .dataframe thead th {\n        text-align: right;\n    }\n</style>\n<table border=\"1\" class=\"dataframe\">\n  <thead>\n    <tr style=\"text-align: right;\">\n      <th></th>\n      <th>solo_KillDeathRatio</th>\n      <th>solo_WinRatio</th>\n      <th>solo_TimeSurvived</th>\n      <th>solo_RoundsPlayed</th>\n      <th>solo_Wins</th>\n      <th>solo_WinTop10Ratio</th>\n      <th>solo_Top10s</th>\n      <th>solo_Top10Ratio</th>\n      <th>solo_Losses</th>\n      <th>solo_Rating</th>\n      <th>...</th>\n      <th>solo_RideDistance</th>\n      <th>solo_MoveDistance</th>\n      <th>solo_AvgWalkDistance</th>\n      <th>solo_AvgRideDistance</th>\n      <th>solo_LongestKill</th>\n      <th>solo_Heals</th>\n      <th>solo_Revives</th>\n      <th>solo_Boosts</th>\n      <th>solo_DamageDealt</th>\n      <th>solo_DBNOs</th>\n    </tr>\n  </thead>\n  <tbody>\n    <tr>\n      <th>0</th>\n      <td>3.14</td>\n      <td>17.65</td>\n      <td>18469.14</td>\n      <td>17</td>\n      <td>3</td>\n      <td>0.83</td>\n      <td>4</td>\n      <td>23.5</td>\n      <td>14</td>\n      <td>1559.78</td>\n      <td>...</td>\n      <td>27537.53</td>\n      <td>56461.84</td>\n      <td>2202.40</td>\n      <td>2764.50</td>\n      <td>304.87</td>\n      <td>33</td>\n      <td>0</td>\n      <td>29</td>\n      <td>4341.06</td>\n      <td>0</td>\n    </tr>\n    <tr>\n      <th>1</th>\n      <td>4.41</td>\n      <td>18.18</td>\n      <td>33014.86</td>\n      <td>33</td>\n      <td>6</td>\n      <td>0.36</td>\n      <td>11</td>\n      <td>33.3</td>\n      <td>27</td>\n      <td>1884.53</td>\n      <td>...</td>\n      <td>117837.74</td>\n      <td>165706.51</td>\n      <td>2017.38</td>\n      <td>5188.69</td>\n      <td>351.95</td>\n      <td>60</td>\n      <td>0</td>\n      <td>88</td>\n      <td>12970.39</td>\n      <td>0</td>\n    </tr>\n    <tr>\n      <th>2</th>\n      <td>3.60</td>\n      <td>0.00</td>\n      <td>4330.44</td>\n      <td>5</td>\n      <td>0</td>\n      <td>0.00</td>\n      <td>1</td>\n      <td>20.0</td>\n      <td>5</td>\n      <td>1255.92</td>\n      <td>...</td>\n      <td>7683.20</td>\n      <td>14023.99</td>\n      <td>1375.70</td>\n      <td>3052.50</td>\n      <td>125.76</td>\n      <td>5</td>\n      <td>0</td>\n      <td>3</td>\n      <td>1648.82</td>\n      <td>0</td>\n    </tr>\n    <tr>\n      <th>3</th>\n      <td>14.00</td>\n      <td>50.00</td>\n      <td>13421.82</td>\n      <td>8</td>\n      <td>4</td>\n      <td>0.67</td>\n      <td>6</td>\n      <td>75.0</td>\n      <td>4</td>\n      <td>1798.70</td>\n      <td>...</td>\n      <td>30314.83</td>\n      <td>47894.53</td>\n      <td>2197.46</td>\n      <td>3789.35</td>\n      <td>412.25</td>\n      <td>8</td>\n      <td>0</td>\n      <td>24</td>\n      <td>6015.57</td>\n      <td>0</td>\n    </tr>\n    <tr>\n      <th>4</th>\n      <td>10.50</td>\n      <td>33.33</td>\n      <td>9841.04</td>\n      <td>6</td>\n      <td>2</td>\n      <td>0.40</td>\n      <td>5</td>\n      <td>83.3</td>\n      <td>4</td>\n      <td>1668.67</td>\n      <td>...</td>\n      <td>22425.36</td>\n      <td>39161.77</td>\n      <td>2789.40</td>\n      <td>3737.56</td>\n      <td>307.97</td>\n      <td>12</td>\n      <td>0</td>\n      <td>21</td>\n      <td>3824.89</td>\n      <td>0</td>\n    </tr>\n    <tr>\n      <th>5</th>\n      <td>5.73</td>\n      <td>31.25</td>\n      <td>22003.22</td>\n      <td>16</td>\n      <td>5</td>\n      <td>0.50</td>\n      <td>10</td>\n      <td>62.5</td>\n      <td>11</td>\n      <td>2123.32</td>\n      <td>...</td>\n      <td>60352.12</td>\n      <td>91395.30</td>\n      <td>1940.20</td>\n      <td>3772.01</td>\n      <td>298.03</td>\n      <td>22</td>\n      <td>0</td>\n      <td>50</td>\n      <td>6591.15</td>\n      <td>0</td>\n    </tr>\n    <tr>\n      <th>6</th>\n      <td>2.45</td>\n      <td>8.45</td>\n      <td>148051.25</td>\n      <td>142</td>\n      <td>12</td>\n      <td>0.18</td>\n      <td>34</td>\n      <td>23.9</td>\n      <td>130</td>\n      <td>2604.65</td>\n      <td>...</td>\n      <td>469525.85</td>\n      <td>670638.33</td>\n      <td>1939.00</td>\n      <td>5189.78</td>\n      <td>464.37</td>\n      <td>275</td>\n      <td>0</td>\n      <td>371</td>\n      <td>40409.57</td>\n      <td>0</td>\n    </tr>\n    <tr>\n      <th>7</th>\n      <td>2.71</td>\n      <td>26.32</td>\n      <td>26091.14</td>\n      <td>19</td>\n      <td>5</td>\n      <td>0.50</td>\n      <td>10</td>\n      <td>52.6</td>\n      <td>14</td>\n      <td>1993.43</td>\n      <td>...</td>\n      <td>71402.04</td>\n      <td>95534.14</td>\n      <td>1270.11</td>\n      <td>3758.00</td>\n      <td>260.01</td>\n      <td>29</td>\n      <td>0</td>\n      <td>55</td>\n      <td>4529.69</td>\n      <td>0</td>\n    </tr>\n    <tr>\n      <th>8</th>\n      <td>3.68</td>\n      <td>13.64</td>\n      <td>49282.41</td>\n      <td>44</td>\n      <td>6</td>\n      <td>0.23</td>\n      <td>13</td>\n      <td>29.5</td>\n      <td>38</td>\n      <td>2461.78</td>\n      <td>...</td>\n      <td>98830.09</td>\n      <td>165490.88</td>\n      <td>830.48</td>\n      <td>1176.55</td>\n      <td>283.13</td>\n      <td>67</td>\n      <td>0</td>\n      <td>97</td>\n      <td>14935.28</td>\n      <td>0</td>\n    </tr>\n    <tr>\n      <th>9</th>\n      <td>4.17</td>\n      <td>25.00</td>\n      <td>10280.77</td>\n      <td>8</td>\n      <td>2</td>\n      <td>0.25</td>\n      <td>4</td>\n      <td>50.0</td>\n      <td>6</td>\n      <td>1550.87</td>\n      <td>...</td>\n      <td>7633.25</td>\n      <td>31283.25</td>\n      <td>3609.51</td>\n      <td>546.01</td>\n      <td>183.70</td>\n      <td>9</td>\n      <td>0</td>\n      <td>24</td>\n      <td>2979.04</td>\n      <td>0</td>\n    </tr>\n    <tr>\n      <th>10</th>\n      <td>3.12</td>\n      <td>6.03</td>\n      <td>106330.23</td>\n      <td>116</td>\n      <td>7</td>\n      <td>0.36</td>\n      <td>24</td>\n      <td>20.7</td>\n      <td>109</td>\n      <td>2125.14</td>\n      <td>...</td>\n      <td>114017.81</td>\n      <td>333830.88</td>\n      <td>1986.97</td>\n      <td>1105.19</td>\n      <td>402.96</td>\n      <td>160</td>\n      <td>0</td>\n      <td>242</td>\n      <td>37744.50</td>\n      <td>0</td>\n    </tr>\n    <tr>\n      <th>11</th>\n      <td>1.20</td>\n      <td>1.19</td>\n      <td>232995.54</td>\n      <td>335</td>\n      <td>4</td>\n      <td>0.06</td>\n      <td>33</td>\n      <td>9.9</td>\n      <td>331</td>\n      <td>2335.96</td>\n      <td>...</td>\n      <td>379037.02</td>\n      <td>692140.93</td>\n      <td>1276.77</td>\n      <td>1972.20</td>\n      <td>343.82</td>\n      <td>406</td>\n      <td>0</td>\n      <td>332</td>\n      <td>48406.91</td>\n      <td>0</td>\n    </tr>\n    <tr>\n      <th>12</th>\n      <td>4.46</td>\n      <td>10.34</td>\n      <td>91380.40</td>\n      <td>87</td>\n      <td>9</td>\n      <td>0.45</td>\n      <td>25</td>\n      <td>28.7</td>\n      <td>78</td>\n      <td>2172.29</td>\n      <td>...</td>\n      <td>294109.95</td>\n      <td>465509.69</td>\n      <td>1928.81</td>\n      <td>2707.02</td>\n      <td>601.15</td>\n      <td>167</td>\n      <td>0</td>\n      <td>238</td>\n      <td>38018.21</td>\n      <td>0</td>\n    </tr>\n    <tr>\n      <th>13</th>\n      <td>2.60</td>\n      <td>5.56</td>\n      <td>71910.46</td>\n      <td>72</td>\n      <td>4</td>\n      <td>0.06</td>\n      <td>20</td>\n      <td>27.8</td>\n      <td>68</td>\n      <td>2480.35</td>\n      <td>...</td>\n      <td>157326.08</td>\n      <td>247989.58</td>\n      <td>877.32</td>\n      <td>1368.98</td>\n      <td>228.39</td>\n      <td>114</td>\n      <td>0</td>\n      <td>131</td>\n      <td>20950.58</td>\n      <td>0</td>\n    </tr>\n    <tr>\n      <th>14</th>\n      <td>3.60</td>\n      <td>13.04</td>\n      <td>30996.86</td>\n      <td>23</td>\n      <td>3</td>\n      <td>0.67</td>\n      <td>7</td>\n      <td>30.4</td>\n      <td>20</td>\n      <td>1978.00</td>\n      <td>...</td>\n      <td>62285.05</td>\n      <td>111076.82</td>\n      <td>2176.29</td>\n      <td>4313.64</td>\n      <td>330.07</td>\n      <td>38</td>\n      <td>0</td>\n      <td>65</td>\n      <td>7536.64</td>\n      <td>0</td>\n    </tr>\n    <tr>\n      <th>15</th>\n      <td>5.00</td>\n      <td>33.33</td>\n      <td>3638.01</td>\n      <td>3</td>\n      <td>1</td>\n      <td>1.00</td>\n      <td>1</td>\n      <td>33.3</td>\n      <td>2</td>\n      <td>1315.49</td>\n      <td>...</td>\n      <td>7188.01</td>\n      <td>10029.64</td>\n      <td>947.21</td>\n      <td>2396.00</td>\n      <td>125.66</td>\n      <td>2</td>\n      <td>0</td>\n      <td>7</td>\n      <td>1111.94</td>\n      <td>0</td>\n    </tr>\n    <tr>\n      <th>16</th>\n      <td>3.35</td>\n      <td>23.03</td>\n      <td>246771.12</td>\n      <td>165</td>\n      <td>38</td>\n      <td>0.22</td>\n      <td>86</td>\n      <td>52.1</td>\n      <td>127</td>\n      <td>2840.73</td>\n      <td>...</td>\n      <td>931615.10</td>\n      <td>1210603.50</td>\n      <td>1223.54</td>\n      <td>2840.29</td>\n      <td>442.07</td>\n      <td>278</td>\n      <td>0</td>\n      <td>472</td>\n      <td>52780.42</td>\n      <td>0</td>\n    </tr>\n    <tr>\n      <th>17</th>\n      <td>5.06</td>\n      <td>18.46</td>\n      <td>87214.43</td>\n      <td>65</td>\n      <td>12</td>\n      <td>0.49</td>\n      <td>29</td>\n      <td>44.6</td>\n      <td>53</td>\n      <td>2331.60</td>\n      <td>...</td>\n      <td>275697.07</td>\n      <td>375741.90</td>\n      <td>1619.45</td>\n      <td>4658.91</td>\n      <td>372.23</td>\n      <td>108</td>\n      <td>0</td>\n      <td>248</td>\n      <td>29958.40</td>\n      <td>0</td>\n    </tr>\n    <tr>\n      <th>18</th>\n      <td>6.60</td>\n      <td>37.50</td>\n      <td>20927.23</td>\n      <td>16</td>\n      <td>6</td>\n      <td>0.86</td>\n      <td>7</td>\n      <td>43.8</td>\n      <td>10</td>\n      <td>2088.75</td>\n      <td>...</td>\n      <td>41756.23</td>\n      <td>76347.52</td>\n      <td>2161.96</td>\n      <td>2609.76</td>\n      <td>245.48</td>\n      <td>20</td>\n      <td>0</td>\n      <td>58</td>\n      <td>6758.80</td>\n      <td>0</td>\n    </tr>\n    <tr>\n      <th>19</th>\n      <td>2.49</td>\n      <td>4.44</td>\n      <td>45916.37</td>\n      <td>45</td>\n      <td>2</td>\n      <td>0.18</td>\n      <td>11</td>\n      <td>24.4</td>\n      <td>43</td>\n      <td>2216.46</td>\n      <td>...</td>\n      <td>95676.41</td>\n      <td>160193.30</td>\n      <td>1433.71</td>\n      <td>2126.14</td>\n      <td>344.96</td>\n      <td>47</td>\n      <td>0</td>\n      <td>81</td>\n      <td>12834.82</td>\n      <td>0</td>\n    </tr>\n    <tr>\n      <th>20</th>\n      <td>4.25</td>\n      <td>12.73</td>\n      <td>62763.42</td>\n      <td>55</td>\n      <td>7</td>\n      <td>0.36</td>\n      <td>17</td>\n      <td>30.9</td>\n      <td>48</td>\n      <td>2079.32</td>\n      <td>...</td>\n      <td>82265.82</td>\n      <td>171343.46</td>\n      <td>1898.15</td>\n      <td>1824.04</td>\n      <td>304.65</td>\n      <td>147</td>\n      <td>0</td>\n      <td>171</td>\n      <td>21008.36</td>\n      <td>0</td>\n    </tr>\n    <tr>\n      <th>21</th>\n      <td>2.54</td>\n      <td>8.89</td>\n      <td>43124.07</td>\n      <td>45</td>\n      <td>4</td>\n      <td>0.50</td>\n      <td>8</td>\n      <td>17.8</td>\n      <td>41</td>\n      <td>2146.49</td>\n      <td>...</td>\n      <td>116276.60</td>\n      <td>177172.80</td>\n      <td>1353.25</td>\n      <td>2583.93</td>\n      <td>823.47</td>\n      <td>53</td>\n      <td>0</td>\n      <td>92</td>\n      <td>11712.06</td>\n      <td>0</td>\n    </tr>\n    <tr>\n      <th>22</th>\n      <td>5.17</td>\n      <td>33.33</td>\n      <td>11733.19</td>\n      <td>9</td>\n      <td>3</td>\n      <td>0.75</td>\n      <td>4</td>\n      <td>44.4</td>\n      <td>6</td>\n      <td>1678.51</td>\n      <td>...</td>\n      <td>34242.47</td>\n      <td>51710.45</td>\n      <td>1940.89</td>\n      <td>3804.72</td>\n      <td>250.69</td>\n      <td>17</td>\n      <td>0</td>\n      <td>32</td>\n      <td>3135.53</td>\n      <td>0</td>\n    </tr>\n    <tr>\n      <th>23</th>\n      <td>3.58</td>\n      <td>14.29</td>\n      <td>18488.62</td>\n      <td>14</td>\n      <td>2</td>\n      <td>0.17</td>\n      <td>6</td>\n      <td>42.9</td>\n      <td>12</td>\n      <td>1825.93</td>\n      <td>...</td>\n      <td>19575.93</td>\n      <td>44722.74</td>\n      <td>1481.69</td>\n      <td>978.80</td>\n      <td>259.88</td>\n      <td>14</td>\n      <td>0</td>\n      <td>44</td>\n      <td>4727.51</td>\n      <td>0</td>\n    </tr>\n    <tr>\n      <th>24</th>\n      <td>4.52</td>\n      <td>17.33</td>\n      <td>331173.26</td>\n      <td>277</td>\n      <td>48</td>\n      <td>0.25</td>\n      <td>109</td>\n      <td>39.4</td>\n      <td>229</td>\n      <td>2928.09</td>\n      <td>...</td>\n      <td>1303816.39</td>\n      <td>1678515.27</td>\n      <td>1164.78</td>\n      <td>4095.67</td>\n      <td>441.08</td>\n      <td>443</td>\n      <td>0</td>\n      <td>853</td>\n      <td>116260.40</td>\n      <td>0</td>\n    </tr>\n    <tr>\n      <th>25</th>\n      <td>5.16</td>\n      <td>23.77</td>\n      <td>397022.20</td>\n      <td>265</td>\n      <td>63</td>\n      <td>0.41</td>\n      <td>153</td>\n      <td>57.7</td>\n      <td>202</td>\n      <td>2956.50</td>\n      <td>...</td>\n      <td>1127482.00</td>\n      <td>1565599.00</td>\n      <td>1653.27</td>\n      <td>4254.65</td>\n      <td>453.45</td>\n      <td>463</td>\n      <td>0</td>\n      <td>972</td>\n      <td>121904.20</td>\n      <td>0</td>\n    </tr>\n    <tr>\n      <th>26</th>\n      <td>2.12</td>\n      <td>5.19</td>\n      <td>87514.41</td>\n      <td>77</td>\n      <td>4</td>\n      <td>0.19</td>\n      <td>21</td>\n      <td>27.3</td>\n      <td>73</td>\n      <td>2512.27</td>\n      <td>...</td>\n      <td>124305.00</td>\n      <td>240220.30</td>\n      <td>1505.39</td>\n      <td>1614.35</td>\n      <td>514.20</td>\n      <td>72</td>\n      <td>0</td>\n      <td>143</td>\n      <td>17864.41</td>\n      <td>0</td>\n    </tr>\n    <tr>\n      <th>27</th>\n      <td>2.39</td>\n      <td>5.77</td>\n      <td>53548.14</td>\n      <td>52</td>\n      <td>3</td>\n      <td>0.25</td>\n      <td>12</td>\n      <td>23.1</td>\n      <td>49</td>\n      <td>2348.90</td>\n      <td>...</td>\n      <td>145659.30</td>\n      <td>227509.70</td>\n      <td>1574.04</td>\n      <td>2801.14</td>\n      <td>368.18</td>\n      <td>99</td>\n      <td>0</td>\n      <td>136</td>\n      <td>13211.58</td>\n      <td>0</td>\n    </tr>\n    <tr>\n      <th>28</th>\n      <td>2.00</td>\n      <td>5.36</td>\n      <td>47966.09</td>\n      <td>56</td>\n      <td>3</td>\n      <td>0.38</td>\n      <td>8</td>\n      <td>14.3</td>\n      <td>53</td>\n      <td>2083.40</td>\n      <td>...</td>\n      <td>69823.86</td>\n      <td>137262.40</td>\n      <td>1204.26</td>\n      <td>1246.86</td>\n      <td>277.18</td>\n      <td>88</td>\n      <td>0</td>\n      <td>76</td>\n      <td>12214.28</td>\n      <td>0</td>\n    </tr>\n    <tr>\n      <th>29</th>\n      <td>2.30</td>\n      <td>9.09</td>\n      <td>25094.18</td>\n      <td>22</td>\n      <td>2</td>\n      <td>0.33</td>\n      <td>6</td>\n      <td>27.3</td>\n      <td>20</td>\n      <td>1748.67</td>\n      <td>...</td>\n      <td>71548.86</td>\n      <td>100504.00</td>\n      <td>1316.14</td>\n      <td>3252.22</td>\n      <td>240.75</td>\n      <td>28</td>\n      <td>0</td>\n      <td>30</td>\n      <td>5321.45</td>\n      <td>0</td>\n    </tr>\n  </tbody>\n</table>\n<p>30 rows × 50 columns</p>\n</div>"
     },
     "execution_count": 193,
     "metadata": {},
     "output_type": "execute_result"
    }
   ],
   "source": [
    "df.head(30)"
   ],
   "metadata": {
    "collapsed": false,
    "pycharm": {
     "name": "#%%\n"
    }
   }
  },
  {
   "cell_type": "markdown",
   "source": [
    "## 2-2. 요약 정보 출력"
   ],
   "metadata": {
    "collapsed": false,
    "pycharm": {
     "name": "#%% md\n"
    }
   }
  },
  {
   "cell_type": "code",
   "execution_count": 194,
   "outputs": [
    {
     "data": {
      "text/plain": "       solo_KillDeathRatio  solo_WinRatio  solo_TimeSurvived  \\\ncount         87898.000000   87898.000000       8.789800e+04   \nmean              1.865855       5.017506       6.971571e+04   \nstd               1.776301      10.077138       8.040861e+04   \nmin               0.000000       0.000000       7.610000e+01   \n25%               1.030000       0.000000       1.789705e+04   \n50%               1.470000       2.000000       4.517333e+04   \n75%               2.140000       5.560000       9.246264e+04   \nmax             100.000000     100.000000       1.521200e+06   \n\n       solo_RoundsPlayed     solo_Wins  solo_WinTop10Ratio   solo_Top10s  \\\ncount       87898.000000  87898.000000        87898.000000  87898.000000   \nmean           79.275342      2.080093            0.179251     12.106282   \nstd            96.947859      3.394513            0.217444     14.694722   \nmin             1.000000      0.000000            0.000000      0.000000   \n25%            17.000000      0.000000            0.000000      4.000000   \n50%            48.000000      1.000000            0.110000      8.000000   \n75%           105.000000      3.000000            0.250000     15.000000   \nmax          1681.000000    106.000000            1.000000    386.000000   \n\n       solo_Top10Ratio   solo_Losses   solo_Rating  ...  solo_RideDistance  \\\ncount     87898.000000  87898.000000  87898.000000  ...       8.789800e+04   \nmean         20.667335     77.195249   1768.627033  ...       1.023505e+05   \nstd          16.181078     95.545156    348.721933  ...       1.533403e+05   \nmin           0.000000      0.000000    984.580000  ...       0.000000e+00   \n25%          10.800000     16.000000   1477.232500  ...       1.903947e+04   \n50%          16.700000     46.000000   1754.210000  ...       5.489848e+04   \n75%          25.900000    102.000000   2041.137500  ...       1.264717e+05   \nmax         100.000000   1673.000000   2967.090000  ...       4.493014e+06   \n\n       solo_MoveDistance  solo_AvgWalkDistance  solo_AvgRideDistance  \\\ncount       8.789800e+04          87898.000000          87898.000000   \nmean        2.058714e+05           1514.824010           1384.556571   \nstd         2.607638e+05            649.758824           1000.285842   \nmin         0.000000e+00              0.000000              0.000000   \n25%         4.875226e+04           1147.880000            701.270000   \n50%         1.265084e+05           1430.920000           1167.280000   \n75%         2.663913e+05           1786.627500           1826.485000   \nmax         6.480220e+06          68811.950000          13854.950000   \n\n       solo_LongestKill    solo_Heals  solo_Revives   solo_Boosts  \\\ncount      87898.000000  87898.000000       87898.0  87898.000000   \nmean         264.079771    110.544426           0.0    102.052094   \nstd          125.824671    154.957248           0.0    133.393080   \nmin            0.000000      0.000000           0.0      0.000000   \n25%          191.682500     22.000000           0.0     23.000000   \n50%          258.230000     63.000000           0.0     62.000000   \n75%          329.367500    140.000000           0.0    130.000000   \nmax         4694.110000   6341.000000           0.0   2923.000000   \n\n       solo_DamageDealt  solo_DBNOs  \ncount      87898.000000     87898.0  \nmean       12664.088827         0.0  \nstd        15596.418056         0.0  \nmin            0.000000         0.0  \n25%         3495.237500         0.0  \n50%         8387.940000         0.0  \n75%        16186.897500         0.0  \nmax       598378.320000         0.0  \n\n[8 rows x 50 columns]",
      "text/html": "<div>\n<style scoped>\n    .dataframe tbody tr th:only-of-type {\n        vertical-align: middle;\n    }\n\n    .dataframe tbody tr th {\n        vertical-align: top;\n    }\n\n    .dataframe thead th {\n        text-align: right;\n    }\n</style>\n<table border=\"1\" class=\"dataframe\">\n  <thead>\n    <tr style=\"text-align: right;\">\n      <th></th>\n      <th>solo_KillDeathRatio</th>\n      <th>solo_WinRatio</th>\n      <th>solo_TimeSurvived</th>\n      <th>solo_RoundsPlayed</th>\n      <th>solo_Wins</th>\n      <th>solo_WinTop10Ratio</th>\n      <th>solo_Top10s</th>\n      <th>solo_Top10Ratio</th>\n      <th>solo_Losses</th>\n      <th>solo_Rating</th>\n      <th>...</th>\n      <th>solo_RideDistance</th>\n      <th>solo_MoveDistance</th>\n      <th>solo_AvgWalkDistance</th>\n      <th>solo_AvgRideDistance</th>\n      <th>solo_LongestKill</th>\n      <th>solo_Heals</th>\n      <th>solo_Revives</th>\n      <th>solo_Boosts</th>\n      <th>solo_DamageDealt</th>\n      <th>solo_DBNOs</th>\n    </tr>\n  </thead>\n  <tbody>\n    <tr>\n      <th>count</th>\n      <td>87898.000000</td>\n      <td>87898.000000</td>\n      <td>8.789800e+04</td>\n      <td>87898.000000</td>\n      <td>87898.000000</td>\n      <td>87898.000000</td>\n      <td>87898.000000</td>\n      <td>87898.000000</td>\n      <td>87898.000000</td>\n      <td>87898.000000</td>\n      <td>...</td>\n      <td>8.789800e+04</td>\n      <td>8.789800e+04</td>\n      <td>87898.000000</td>\n      <td>87898.000000</td>\n      <td>87898.000000</td>\n      <td>87898.000000</td>\n      <td>87898.0</td>\n      <td>87898.000000</td>\n      <td>87898.000000</td>\n      <td>87898.0</td>\n    </tr>\n    <tr>\n      <th>mean</th>\n      <td>1.865855</td>\n      <td>5.017506</td>\n      <td>6.971571e+04</td>\n      <td>79.275342</td>\n      <td>2.080093</td>\n      <td>0.179251</td>\n      <td>12.106282</td>\n      <td>20.667335</td>\n      <td>77.195249</td>\n      <td>1768.627033</td>\n      <td>...</td>\n      <td>1.023505e+05</td>\n      <td>2.058714e+05</td>\n      <td>1514.824010</td>\n      <td>1384.556571</td>\n      <td>264.079771</td>\n      <td>110.544426</td>\n      <td>0.0</td>\n      <td>102.052094</td>\n      <td>12664.088827</td>\n      <td>0.0</td>\n    </tr>\n    <tr>\n      <th>std</th>\n      <td>1.776301</td>\n      <td>10.077138</td>\n      <td>8.040861e+04</td>\n      <td>96.947859</td>\n      <td>3.394513</td>\n      <td>0.217444</td>\n      <td>14.694722</td>\n      <td>16.181078</td>\n      <td>95.545156</td>\n      <td>348.721933</td>\n      <td>...</td>\n      <td>1.533403e+05</td>\n      <td>2.607638e+05</td>\n      <td>649.758824</td>\n      <td>1000.285842</td>\n      <td>125.824671</td>\n      <td>154.957248</td>\n      <td>0.0</td>\n      <td>133.393080</td>\n      <td>15596.418056</td>\n      <td>0.0</td>\n    </tr>\n    <tr>\n      <th>min</th>\n      <td>0.000000</td>\n      <td>0.000000</td>\n      <td>7.610000e+01</td>\n      <td>1.000000</td>\n      <td>0.000000</td>\n      <td>0.000000</td>\n      <td>0.000000</td>\n      <td>0.000000</td>\n      <td>0.000000</td>\n      <td>984.580000</td>\n      <td>...</td>\n      <td>0.000000e+00</td>\n      <td>0.000000e+00</td>\n      <td>0.000000</td>\n      <td>0.000000</td>\n      <td>0.000000</td>\n      <td>0.000000</td>\n      <td>0.0</td>\n      <td>0.000000</td>\n      <td>0.000000</td>\n      <td>0.0</td>\n    </tr>\n    <tr>\n      <th>25%</th>\n      <td>1.030000</td>\n      <td>0.000000</td>\n      <td>1.789705e+04</td>\n      <td>17.000000</td>\n      <td>0.000000</td>\n      <td>0.000000</td>\n      <td>4.000000</td>\n      <td>10.800000</td>\n      <td>16.000000</td>\n      <td>1477.232500</td>\n      <td>...</td>\n      <td>1.903947e+04</td>\n      <td>4.875226e+04</td>\n      <td>1147.880000</td>\n      <td>701.270000</td>\n      <td>191.682500</td>\n      <td>22.000000</td>\n      <td>0.0</td>\n      <td>23.000000</td>\n      <td>3495.237500</td>\n      <td>0.0</td>\n    </tr>\n    <tr>\n      <th>50%</th>\n      <td>1.470000</td>\n      <td>2.000000</td>\n      <td>4.517333e+04</td>\n      <td>48.000000</td>\n      <td>1.000000</td>\n      <td>0.110000</td>\n      <td>8.000000</td>\n      <td>16.700000</td>\n      <td>46.000000</td>\n      <td>1754.210000</td>\n      <td>...</td>\n      <td>5.489848e+04</td>\n      <td>1.265084e+05</td>\n      <td>1430.920000</td>\n      <td>1167.280000</td>\n      <td>258.230000</td>\n      <td>63.000000</td>\n      <td>0.0</td>\n      <td>62.000000</td>\n      <td>8387.940000</td>\n      <td>0.0</td>\n    </tr>\n    <tr>\n      <th>75%</th>\n      <td>2.140000</td>\n      <td>5.560000</td>\n      <td>9.246264e+04</td>\n      <td>105.000000</td>\n      <td>3.000000</td>\n      <td>0.250000</td>\n      <td>15.000000</td>\n      <td>25.900000</td>\n      <td>102.000000</td>\n      <td>2041.137500</td>\n      <td>...</td>\n      <td>1.264717e+05</td>\n      <td>2.663913e+05</td>\n      <td>1786.627500</td>\n      <td>1826.485000</td>\n      <td>329.367500</td>\n      <td>140.000000</td>\n      <td>0.0</td>\n      <td>130.000000</td>\n      <td>16186.897500</td>\n      <td>0.0</td>\n    </tr>\n    <tr>\n      <th>max</th>\n      <td>100.000000</td>\n      <td>100.000000</td>\n      <td>1.521200e+06</td>\n      <td>1681.000000</td>\n      <td>106.000000</td>\n      <td>1.000000</td>\n      <td>386.000000</td>\n      <td>100.000000</td>\n      <td>1673.000000</td>\n      <td>2967.090000</td>\n      <td>...</td>\n      <td>4.493014e+06</td>\n      <td>6.480220e+06</td>\n      <td>68811.950000</td>\n      <td>13854.950000</td>\n      <td>4694.110000</td>\n      <td>6341.000000</td>\n      <td>0.0</td>\n      <td>2923.000000</td>\n      <td>598378.320000</td>\n      <td>0.0</td>\n    </tr>\n  </tbody>\n</table>\n<p>8 rows × 50 columns</p>\n</div>"
     },
     "execution_count": 194,
     "metadata": {},
     "output_type": "execute_result"
    }
   ],
   "source": [
    "df.describe()"
   ],
   "metadata": {
    "collapsed": false,
    "pycharm": {
     "name": "#%%\n"
    }
   }
  },
  {
   "cell_type": "code",
   "execution_count": 196,
   "outputs": [
    {
     "data": {
      "text/plain": "                      solo_KillDeathRatio  solo_WinRatio  solo_WinTop10Ratio  \\\nsolo_DamagePg                    0.869319       0.610149            0.456894   \nsolo_HeadshotKillsPg             0.737372       0.481558            0.371495   \nsolo_HealsPg                     0.226517       0.196385            0.127247   \nsolo_KillsPg                     0.889437       0.635135            0.466835   \nsolo_MoveDistancePg              0.350892       0.376642            0.203946   \nsolo_RoadKillsPg                 0.113038       0.089193            0.049061   \nsolo_TeamKillsPg                -0.016950      -0.026654           -0.024101   \nsolo_TimeSurvivedPg              0.461784       0.506392            0.241249   \nsolo_Top10sPg                    0.568376       0.618367            0.311712   \n\n                      solo_Top10Ratio  \nsolo_DamagePg                0.602139  \nsolo_HeadshotKillsPg         0.419957  \nsolo_HealsPg                 0.314851  \nsolo_KillsPg                 0.607993  \nsolo_MoveDistancePg          0.617375  \nsolo_RoadKillsPg             0.126915  \nsolo_TeamKillsPg            -0.037148  \nsolo_TimeSurvivedPg          0.805904  \nsolo_Top10sPg                0.999858  ",
      "text/html": "<div>\n<style scoped>\n    .dataframe tbody tr th:only-of-type {\n        vertical-align: middle;\n    }\n\n    .dataframe tbody tr th {\n        vertical-align: top;\n    }\n\n    .dataframe thead th {\n        text-align: right;\n    }\n</style>\n<table border=\"1\" class=\"dataframe\">\n  <thead>\n    <tr style=\"text-align: right;\">\n      <th></th>\n      <th>solo_KillDeathRatio</th>\n      <th>solo_WinRatio</th>\n      <th>solo_WinTop10Ratio</th>\n      <th>solo_Top10Ratio</th>\n    </tr>\n  </thead>\n  <tbody>\n    <tr>\n      <th>solo_DamagePg</th>\n      <td>0.869319</td>\n      <td>0.610149</td>\n      <td>0.456894</td>\n      <td>0.602139</td>\n    </tr>\n    <tr>\n      <th>solo_HeadshotKillsPg</th>\n      <td>0.737372</td>\n      <td>0.481558</td>\n      <td>0.371495</td>\n      <td>0.419957</td>\n    </tr>\n    <tr>\n      <th>solo_HealsPg</th>\n      <td>0.226517</td>\n      <td>0.196385</td>\n      <td>0.127247</td>\n      <td>0.314851</td>\n    </tr>\n    <tr>\n      <th>solo_KillsPg</th>\n      <td>0.889437</td>\n      <td>0.635135</td>\n      <td>0.466835</td>\n      <td>0.607993</td>\n    </tr>\n    <tr>\n      <th>solo_MoveDistancePg</th>\n      <td>0.350892</td>\n      <td>0.376642</td>\n      <td>0.203946</td>\n      <td>0.617375</td>\n    </tr>\n    <tr>\n      <th>solo_RoadKillsPg</th>\n      <td>0.113038</td>\n      <td>0.089193</td>\n      <td>0.049061</td>\n      <td>0.126915</td>\n    </tr>\n    <tr>\n      <th>solo_TeamKillsPg</th>\n      <td>-0.016950</td>\n      <td>-0.026654</td>\n      <td>-0.024101</td>\n      <td>-0.037148</td>\n    </tr>\n    <tr>\n      <th>solo_TimeSurvivedPg</th>\n      <td>0.461784</td>\n      <td>0.506392</td>\n      <td>0.241249</td>\n      <td>0.805904</td>\n    </tr>\n    <tr>\n      <th>solo_Top10sPg</th>\n      <td>0.568376</td>\n      <td>0.618367</td>\n      <td>0.311712</td>\n      <td>0.999858</td>\n    </tr>\n  </tbody>\n</table>\n</div>"
     },
     "execution_count": 196,
     "metadata": {},
     "output_type": "execute_result"
    }
   ],
   "source": [
    "per_game_target = headers[MATCH_TYPE][\"per_game_target\"]\n",
    "per_game_columns = headers[MATCH_TYPE][\"per_game_columns\"]\n",
    "\n",
    "df_corr = df[per_game_target + per_game_columns].corr().loc[per_game_columns, per_game_target] # 상관 관계 행렬\n",
    "df_corr\n",
    "\n",
    "# condition = df_solo_corr >= 0.1 # 상관 관계 있는 것만 필터링\n",
    "# df_solo_corr[condition]"
   ],
   "metadata": {
    "collapsed": false,
    "pycharm": {
     "name": "#%%\n"
    }
   }
  },
  {
   "cell_type": "markdown",
   "source": [
    "# Visualization"
   ],
   "metadata": {
    "collapsed": false,
    "pycharm": {
     "name": "#%% md\n"
    }
   }
  },
  {
   "cell_type": "code",
   "execution_count": 197,
   "outputs": [
    {
     "data": {
      "text/plain": "<AxesSubplot:>"
     },
     "execution_count": 197,
     "metadata": {},
     "output_type": "execute_result"
    },
    {
     "data": {
      "text/plain": "<Figure size 432x288 with 2 Axes>",
      "image/png": "[encoded data removed]"
     },
     "metadata": {
      "needs_background": "light"
     },
     "output_type": "display_data"
    }
   ],
   "source": [
    "import seaborn as sns\n",
    "sns.heatmap(df_corr)"
   ],
   "metadata": {
    "collapsed": false,
    "pycharm": {
     "name": "#%%\n"
    }
   }
  }
 ],
 "metadata": {
  "kernelspec": {
   "display_name": "Python 3",
   "language": "python",
   "name": "python3"
  },
  "language_info": {
   "codemirror_mode": {
    "name": "ipython",
    "version": 2
   },
   "file_extension": ".py",
   "mimetype": "text/x-python",
   "name": "python",
   "nbconvert_exporter": "python",
   "pygments_lexer": "ipython2",
   "version": "2.7.6"
  }
 },
 "nbformat": 4,
 "nbformat_minor": 0
}