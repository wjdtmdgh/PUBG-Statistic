{
 "cells": [
  {
   "cell_type": "code",
   "execution_count": 110,
   "outputs": [],
   "source": [
    "FILE_PATH = 'dataset/PUBG.csv'\n",
    "\n",
    "column_prefix = {\n",
    "    \"solo\": \"solo_\",\n",
    "    \"duo\": \"duo_\",\n",
    "    \"squad\": \"squad_\"\n",
    "}\n",
    "\n",
    "headers = {\n",
    "    \"solo\": {\n",
    "        \"per_game_target\": [\n",
    "            'solo_KillDeathRatio',\n",
    "            'solo_WinRatio',\n",
    "            'solo_WinTop10Ratio',\n",
    "            'solo_Top10Ratio',\n",
    "        ],\n",
    "        \"per_game_columns\": [\n",
    "            'solo_DamagePg',\n",
    "            'solo_HeadshotKillsPg',\n",
    "            'solo_HealsPg',\n",
    "            'solo_KillsPg',\n",
    "            'solo_MoveDistancePg',\n",
    "            # 'solo_RevivesPg', # 솔로 매치는 부활 불가능\n",
    "            'solo_RoadKillsPg',\n",
    "            'solo_TeamKillsPg',\n",
    "            'solo_TimeSurvivedPg',\n",
    "            'solo_Top10sPg'\n",
    "        ]\n",
    "    },\n",
    "    \"duo\": {\n",
    "        \"per_game_target\": [\n",
    "            'duo_KillDeathRatio',\n",
    "            'duo_WinRatio',\n",
    "            'duo_WinTop10Ratio',\n",
    "            'duo_Top10Ratio',\n",
    "        ],\n",
    "        \"per_game_columns\": [\n",
    "            'duo_DamagePg',\n",
    "            'duo_HeadshotKillsPg',\n",
    "            'duo_HealsPg',\n",
    "            'duo_KillsPg',\n",
    "            'duo_MoveDistancePg',\n",
    "            'duo_RevivesPg',\n",
    "            'duo_RoadKillsPg',\n",
    "            'duo_TeamKillsPg',\n",
    "            'duo_TimeSurvivedPg',\n",
    "            'duo_Top10sPg'\n",
    "        ]\n",
    "    },\n",
    "    \"squad\": {\n",
    "        \"per_game_target\": [\n",
    "            'squad_KillDeathRatio',\n",
    "            'squad_WinRatio',\n",
    "            'squad_WinTop10Ratio',\n",
    "            'squad_Top10Ratio',\n",
    "        ],\n",
    "        \"per_game_columns\": [\n",
    "            'squad_DamagePg',\n",
    "            'squad_HeadshotKillsPg',\n",
    "            'squad_HealsPg',\n",
    "            'squad_KillsPg',\n",
    "            'squad_MoveDistancePg',\n",
    "            'squad_RevivesPg',\n",
    "            'squad_RoadKillsPg',\n",
    "            'squad_TeamKillsPg',\n",
    "            'squad_TimeSurvivedPg',\n",
    "            'squad_Top10sPg'\n",
    "        ]\n",
    "    }\n",
    "}\n",
    "\n",
    "import pandas as pd\n",
    "\n",
    "def load_dataset(match_type):\n",
    "    df = pd.read_csv(FILE_PATH)\n",
    "    print(f\"{FILE_PATH} successfully loadded\")\n",
    "\n",
    "    all_col_names = df.columns.tolist()\n",
    "    col_names = list(filter(lambda x: x.startswith(column_prefix[match_type]), all_col_names))\n",
    "\n",
    "    return df.loc[:, df.columns.isin(col_names)]\n",
    "\n",
    "MATCH_TYPE = 'solo'\n",
    "# MATCH_TYPE = 'duo'\n",
    "# MATCH_TYPE = 'squad'\n",
    "\n",
    "CORR_METHOD = 'pearson'\n",
    "\n",
    "per_game_columns = headers[MATCH_TYPE][\"per_game_columns\"]\n",
    "all_game_columns = headers[MATCH_TYPE][\"per_game_columns\"]\n",
    "all_game_columns.append('solo_WinRatio')"
   ],
   "metadata": {
    "collapsed": false,
    "pycharm": {
     "name": "#%%\n"
    }
   }
  },
  {
   "cell_type": "code",
   "execution_count": 188,
   "outputs": [
    {
     "name": "stdout",
     "output_type": "stream",
     "text": [
      "dataset/PUBG.csv successfully loadded\n"
     ]
    }
   ],
   "source": [
    "from sklearn.neural_network import MLPRegressor\n",
    "df = load_dataset(MATCH_TYPE)\n",
    "\n",
    "from sklearn.model_selection import train_test_split\n",
    "data = df[all_game_columns].values\n",
    "\n",
    "from sklearn.preprocessing import MinMaxScaler\n",
    "scaled_data = MinMaxScaler().fit(data).transform(data)\n",
    "\n",
    "x = scaled_data[:, :9]\n",
    "y = scaled_data[:, 9:]\n",
    "\n",
    "x_train, x_test, y_train, y_test = train_test_split(x, y, train_size=0.7, random_state=1)"
   ],
   "metadata": {
    "collapsed": false,
    "pycharm": {
     "name": "#%%\n"
    }
   }
  },
  {
   "cell_type": "code",
   "execution_count": 189,
   "outputs": [
    {
     "name": "stderr",
     "output_type": "stream",
     "text": [
      "/Users/kina/Documents/GitHub/PUBG-Statistic/venv/lib/python3.8/site-packages/sklearn/neural_network/_multilayer_perceptron.py:1607: DataConversionWarning: A column-vector y was passed when a 1d array was expected. Please change the shape of y to (n_samples, ), for example using ravel().\n",
      "  y = column_or_1d(y, warn=True)\n"
     ]
    }
   ],
   "source": [
    "regr = MLPRegressor(\n",
    "    hidden_layer_sizes=(100, 160, 80),\n",
    "    activation='relu',\n",
    "    solver='lbfgs',\n",
    "    learning_rate_init=0.00001,\n",
    "    max_iter=20000,\n",
    "    random_state=1\n",
    ").fit(x_train, y_train)"
   ],
   "metadata": {
    "collapsed": false,
    "pycharm": {
     "name": "#%%\n"
    }
   }
  },
  {
   "cell_type": "code",
   "execution_count": 190,
   "outputs": [],
   "source": [
    "import pandas as pd\n",
    "\n",
    "y_pred_pd = pd.DataFrame(regr.predict(x_test), columns = ['pred_winRatio'])\n",
    "y_pred_pd['index'] = y_pred_pd.index"
   ],
   "metadata": {
    "collapsed": false,
    "pycharm": {
     "name": "#%%\n"
    }
   }
  },
  {
   "cell_type": "code",
   "execution_count": 191,
   "outputs": [],
   "source": [
    "y_test_pd = pd.DataFrame(y_test, columns = ['real_winRatio'])\n",
    "y_test_pd['index'] = y_test_pd.index"
   ],
   "metadata": {
    "collapsed": false,
    "pycharm": {
     "name": "#%%\n"
    }
   }
  },
  {
   "cell_type": "code",
   "execution_count": 192,
   "outputs": [
    {
     "data": {
      "text/plain": "       pred_winRatio  real_winRatio  index\n0          -0.213770            0.0      0\n1          -0.182520            0.0      1\n2          -0.179998            0.0      2\n3          -0.167452            0.0      3\n4          -0.166010            0.0      4\n...              ...            ...    ...\n26365       1.005866            1.0  26365\n26366       1.018819            1.0  26366\n26367       1.019355            1.0  26367\n26368       1.065394            1.0  26368\n26369       1.180952            1.0  26369\n\n[26370 rows x 3 columns]",
      "text/html": "<div>\n<style scoped>\n    .dataframe tbody tr th:only-of-type {\n        vertical-align: middle;\n    }\n\n    .dataframe tbody tr th {\n        vertical-align: top;\n    }\n\n    .dataframe thead th {\n        text-align: right;\n    }\n</style>\n<table border=\"1\" class=\"dataframe\">\n  <thead>\n    <tr style=\"text-align: right;\">\n      <th></th>\n      <th>pred_winRatio</th>\n      <th>real_winRatio</th>\n      <th>index</th>\n    </tr>\n  </thead>\n  <tbody>\n    <tr>\n      <th>0</th>\n      <td>-0.213770</td>\n      <td>0.0</td>\n      <td>0</td>\n    </tr>\n    <tr>\n      <th>1</th>\n      <td>-0.182520</td>\n      <td>0.0</td>\n      <td>1</td>\n    </tr>\n    <tr>\n      <th>2</th>\n      <td>-0.179998</td>\n      <td>0.0</td>\n      <td>2</td>\n    </tr>\n    <tr>\n      <th>3</th>\n      <td>-0.167452</td>\n      <td>0.0</td>\n      <td>3</td>\n    </tr>\n    <tr>\n      <th>4</th>\n      <td>-0.166010</td>\n      <td>0.0</td>\n      <td>4</td>\n    </tr>\n    <tr>\n      <th>...</th>\n      <td>...</td>\n      <td>...</td>\n      <td>...</td>\n    </tr>\n    <tr>\n      <th>26365</th>\n      <td>1.005866</td>\n      <td>1.0</td>\n      <td>26365</td>\n    </tr>\n    <tr>\n      <th>26366</th>\n      <td>1.018819</td>\n      <td>1.0</td>\n      <td>26366</td>\n    </tr>\n    <tr>\n      <th>26367</th>\n      <td>1.019355</td>\n      <td>1.0</td>\n      <td>26367</td>\n    </tr>\n    <tr>\n      <th>26368</th>\n      <td>1.065394</td>\n      <td>1.0</td>\n      <td>26368</td>\n    </tr>\n    <tr>\n      <th>26369</th>\n      <td>1.180952</td>\n      <td>1.0</td>\n      <td>26369</td>\n    </tr>\n  </tbody>\n</table>\n<p>26370 rows × 3 columns</p>\n</div>"
     },
     "execution_count": 192,
     "metadata": {},
     "output_type": "execute_result"
    }
   ],
   "source": [
    "y_result_pd = pd.merge(y_pred_pd, y_test_pd, on='index')\n",
    "y_result_pd = y_result_pd.sort_values(by=['real_winRatio', 'pred_winRatio'])\n",
    "y_result_pd = y_result_pd.drop(columns = ['index'])\n",
    "y_result_pd = y_result_pd.reset_index(drop=True)\n",
    "y_result_pd['index'] = y_result_pd.index\n",
    "y_result_pd"
   ],
   "metadata": {
    "collapsed": false,
    "pycharm": {
     "name": "#%%\n"
    }
   }
  },
  {
   "cell_type": "code",
   "execution_count": 193,
   "outputs": [
    {
     "data": {
      "text/plain": "<AxesSubplot:xlabel='index', ylabel='pred_winRatio'>"
     },
     "execution_count": 193,
     "metadata": {},
     "output_type": "execute_result"
    },
    {
     "data": {
      "text/plain": "<Figure size 432x288 with 1 Axes>",
      "image/png": "[encoded data removed]"
     },
     "metadata": {
      "needs_background": "light"
     },
     "output_type": "display_data"
    }
   ],
   "source": [
    "import seaborn as sns\n",
    "\n",
    "sns.lineplot(data=y_result_pd, x=\"index\", y=\"pred_winRatio\")\n",
    "sns.lineplot(data=y_result_pd, x=\"index\", y=\"real_winRatio\")"
   ],
   "metadata": {
    "collapsed": false,
    "pycharm": {
     "name": "#%%\n"
    }
   }
  },
  {
   "cell_type": "code",
   "execution_count": 194,
   "outputs": [
    {
     "name": "stdout",
     "output_type": "stream",
     "text": [
      "score: 0.6040391410593472\n"
     ]
    }
   ],
   "source": [
    "score = regr.score(x_test, y_test)\n",
    "print(\"score:\", score)"
   ],
   "metadata": {
    "collapsed": false,
    "pycharm": {
     "name": "#%%\n"
    }
   }
  },
  {
   "cell_type": "code",
   "execution_count": null,
   "outputs": [],
   "source": [],
   "metadata": {
    "collapsed": false,
    "pycharm": {
     "name": "#%%\n"
    }
   }
  }
 ],
 "metadata": {
  "kernelspec": {
   "display_name": "Python 3",
   "language": "python",
   "name": "python3"
  },
  "language_info": {
   "codemirror_mode": {
    "name": "ipython",
    "version": 2
   },
   "file_extension": ".py",
   "mimetype": "text/x-python",
   "name": "python",
   "nbconvert_exporter": "python",
   "pygments_lexer": "ipython2",
   "version": "2.7.6"
  }
 },
 "nbformat": 4,
 "nbformat_minor": 0
}